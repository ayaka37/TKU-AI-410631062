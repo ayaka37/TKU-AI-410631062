{
  "nbformat": 4,
  "nbformat_minor": 0,
  "metadata": {
    "colab": {
      "provenance": [],
      "authorship_tag": "ABX9TyNlvfH4K3IoNuTZeSEN7yZU",
      "include_colab_link": true
    },
    "kernelspec": {
      "name": "python3",
      "display_name": "Python 3"
    },
    "language_info": {
      "name": "python"
    }
  },
  "cells": [
    {
      "cell_type": "markdown",
      "metadata": {
        "id": "view-in-github",
        "colab_type": "text"
      },
      "source": [
        "<a href=\"https://colab.research.google.com/github/ayaka37/TKU-AI-410631062/blob/main/0919.ipynb\" target=\"_parent\"><img src=\"https://colab.research.google.com/assets/colab-badge.svg\" alt=\"Open In Colab\"/></a>"
      ]
    },
    {
      "cell_type": "code",
      "execution_count": 4,
      "metadata": {
        "colab": {
          "base_uri": "https://localhost:8080/"
        },
        "id": "fVceNxyurtE_",
        "outputId": "6ef96588-167f-46c2-ac6f-7c9885995662"
      },
      "outputs": [
        {
          "output_type": "stream",
          "name": "stdout",
          "text": [
            "1 2 3\n",
            "[1, 2, 3]\n",
            "1 [2, 3]\n",
            "hey hi hello\n",
            "hey_hi_hello\n",
            "hey\thi\thello\n",
            "hey\n",
            "hi\n",
            "hello\n",
            "午安，\n",
            "同學好！\n",
            "打起精神來！！\n",
            "午安，\n",
            "同學好！\n",
            "打起精神來！！\n",
            "123\n",
            "456\n",
            "123,456\n",
            "123456\n",
            "午安_同學好_打起精神來!!!\n",
            "下午好,平安順心,健康如意^^\n"
          ]
        }
      ],
      "source": [
        "#P42.\n",
        "a=1\n",
        "b=2\n",
        "c=3\n",
        "\n",
        "print(a,b,c)\n",
        "print([a,b,c])\n",
        "print(a,[b,c])\n",
        "\n",
        "#P43.\n",
        "print('hey','hi','hello')\n",
        "print('hey','hi','hello',sep='_')\n",
        "print('hey','hi','hello',sep='\\t')\n",
        "print('hey','hi','hello',sep='\\n')\n",
        "\n",
        "#P44.\n",
        "print('午安，')\n",
        "print('同學好！')\n",
        "print('打起精神來！！')\n",
        "\n",
        "print('午安，','同學好！','打起精神來！！',sep='\\n')\n",
        "\n",
        "#P45.\n",
        "print(123)\n",
        "print(456)\n",
        "\n",
        "print(123,end=',')\n",
        "print(456)\n",
        "\n",
        "print(123,end='')\n",
        "print(456)\n",
        "\n",
        "#P46.\n",
        "print('午安','同學好','打起精神來!!!',sep='_')\n",
        "print('下午好','平安順心','健康如意^^',sep=',')"
      ]
    },
    {
      "cell_type": "code",
      "source": [],
      "metadata": {
        "id": "cJeOjOcwtO14"
      },
      "execution_count": null,
      "outputs": []
    }
  ]
}